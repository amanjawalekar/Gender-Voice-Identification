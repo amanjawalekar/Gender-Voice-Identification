{
 "cells": [
  {
   "cell_type": "code",
   "execution_count": 11,
   "id": "171042e3",
   "metadata": {},
   "outputs": [],
   "source": [
    "import os\n",
    "import librosa\n",
    "import numpy as np\n",
    "from tensorflow.keras.models import load_model"
   ]
  },
  {
   "cell_type": "code",
   "execution_count": 12,
   "id": "5f210f3c",
   "metadata": {},
   "outputs": [],
   "source": [
    "# Load the trained model\n",
    "model = load_model('gender_voice_identification_model.h5')"
   ]
  },
  {
   "cell_type": "code",
   "execution_count": 13,
   "id": "2eb36763",
   "metadata": {},
   "outputs": [],
   "source": [
    "# Define the function to extract audio features (MFCCs)\n",
    "def extract_features(file_path, mfcc=True, chroma=True, mel=True):\n",
    "    audio, _ = librosa.load(file_path, res_type='kaiser_fast')\n",
    "    result = []\n",
    "    if chroma:\n",
    "        stft = np.abs(librosa.stft(audio))\n",
    "        chroma = np.mean(librosa.feature.chroma_stft(S=stft, sr=44100), axis=1)\n",
    "        result.extend(chroma)\n",
    "    if mfcc:\n",
    "        mfccs = np.mean(librosa.feature.mfcc(y=audio, sr=44100, n_mfcc=13), axis=1)\n",
    "        result.extend(mfccs)\n",
    "    if mel:\n",
    "        mel = np.mean(librosa.feature.melspectrogram(y=audio, sr=44100), axis=1)\n",
    "        result.extend(mel)\n",
    "    return result"
   ]
  },
  {
   "cell_type": "code",
   "execution_count": 14,
   "id": "99b92de2",
   "metadata": {},
   "outputs": [],
   "source": [
    "# Function to predict gender\n",
    "def predict_gender(audio_file_path, threshold=0.1):\n",
    "    features = extract_features(audio_file_path)\n",
    "    features = np.array(features).reshape(1, -1, 1)  # Reshape for model input\n",
    "    prediction = model.predict(features)\n",
    "    gender = \"Male\" if prediction > threshold else \"Female\"\n",
    "    return gender"
   ]
  },
  {
   "cell_type": "code",
   "execution_count": 16,
   "id": "03a5df39",
   "metadata": {},
   "outputs": [
    {
     "name": "stdout",
     "output_type": "stream",
     "text": [
      "1/1 [==============================] - 0s 31ms/step\n",
      "The predicted gender is: Male\n"
     ]
    }
   ],
   "source": [
    "# Test the model with an audio file\n",
    "audio_file_path = \"C:\\\\Users\\\\amanj\\\\Deep Learning\\\\Mini Project\\\\Gender\\\\sahil.wav\" \n",
    "predicted_gender = predict_gender(audio_file_path)\n",
    "print(f\"The predicted gender is: {predicted_gender}\")"
   ]
  },
  {
   "cell_type": "code",
   "execution_count": null,
   "id": "507822e0",
   "metadata": {},
   "outputs": [],
   "source": []
  }
 ],
 "metadata": {
  "kernelspec": {
   "display_name": "Python 3 (ipykernel)",
   "language": "python",
   "name": "python3"
  },
  "language_info": {
   "codemirror_mode": {
    "name": "ipython",
    "version": 3
   },
   "file_extension": ".py",
   "mimetype": "text/x-python",
   "name": "python",
   "nbconvert_exporter": "python",
   "pygments_lexer": "ipython3",
   "version": "3.10.9"
  }
 },
 "nbformat": 4,
 "nbformat_minor": 5
}

{
 "cells": [
  {
   "cell_type": "code",
   "execution_count": 87,
   "id": "171042e3",
   "metadata": {},
   "outputs": [],
   "source": [
    "import os\n",
    "import librosa\n",
    "import numpy as np\n",
    "from tensorflow.keras.models import load_model"
   ]
  },
  {
   "cell_type": "code",
   "execution_count": 88,
   "id": "5f210f3c",
   "metadata": {},
   "outputs": [],
   "source": [
    "# Load the trained model\n",
    "model = load_model('gender_voice_identification_model.h5')"
   ]
  },
  {
   "cell_type": "code",
   "execution_count": 89,
   "id": "99b92de2",
   "metadata": {},
   "outputs": [],
   "source": [
    "# Function to predict gender\n",
    "def predict_gender(audio_file_path, threshold=0.1):\n",
    "    features = extract_features(audio_file_path)\n",
    "    features = np.array(features).reshape(1, -1, 1)  # Reshape for model input\n",
    "    prediction = model.predict(features)\n",
    "    gender = \"Male\" if prediction > threshold else \"Female\"\n",
    "    return gender"
   ]
  },
  {
   "cell_type": "code",
   "execution_count": 90,
   "id": "03a5df39",
   "metadata": {},
   "outputs": [
    {
     "name": "stdout",
     "output_type": "stream",
     "text": [
      "1/1 [==============================] - 0s 454ms/step\n",
      "The predicted gender is: Female\n"
     ]
    }
   ],
   "source": [
    "# Test the model with an audio file\n",
    "audio_file_path = \"C:\\\\Users\\\\amanj\\\\Deep Learning\\\\Mini Project\\\\Gender\\\\female(1).wav\" \n",
    "predicted_gender = predict_gender(audio_file_path)\n",
    "print(f\"The predicted gender is: {predicted_gender}\")"
   ]
  }
 ],
 "metadata": {
  "kernelspec": {
   "display_name": "Python 3 (ipykernel)",
   "language": "python",
   "name": "python3"
  },
  "language_info": {
   "codemirror_mode": {
    "name": "ipython",
    "version": 3
   },
   "file_extension": ".py",
   "mimetype": "text/x-python",
   "name": "python",
   "nbconvert_exporter": "python",
   "pygments_lexer": "ipython3",
   "version": "3.10.9"
  }
 },
 "nbformat": 4,
 "nbformat_minor": 5
}
